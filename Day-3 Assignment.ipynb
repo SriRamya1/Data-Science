{
 "cells": [
  {
   "cell_type": "code",
   "execution_count": 1,
   "metadata": {},
   "outputs": [],
   "source": [
    "import numpy as np"
   ]
  },
  {
   "cell_type": "code",
   "execution_count": 2,
   "metadata": {},
   "outputs": [
    {
     "data": {
      "text/plain": [
       "array([ 2,  5,  8, 11, 14, 17, 20, 23, 26, 29, 32, 35, 38, 41, 44, 47])"
      ]
     },
     "execution_count": 2,
     "metadata": {},
     "output_type": "execute_result"
    }
   ],
   "source": [
    "#Question-1\n",
    "np.arange(2,50,3)"
   ]
  },
  {
   "cell_type": "code",
   "execution_count": 8,
   "metadata": {},
   "outputs": [
    {
     "name": "stdout",
     "output_type": "stream",
     "text": [
      "1 7 3\n",
      "4 8 2\n",
      "[1 7 3 4 8 2]\n",
      "[1 2 3 4 7 8]\n"
     ]
    }
   ],
   "source": [
    "#Question-2\n",
    "arr_1 = np.array([int(x) for x in input().split()])\n",
    "arr_2 = np.array([int(x) for x in input().split()])\n",
    "arr_3=np.concatenate((arr_1,arr_2),axis=0)\n",
    "print(arr_3)\n",
    "print(np.sort(arr_3))"
   ]
  },
  {
   "cell_type": "code",
   "execution_count": 14,
   "metadata": {},
   "outputs": [
    {
     "name": "stdout",
     "output_type": "stream",
     "text": [
      "Dimensions of the array :  3\n",
      "Size of array :  12\n"
     ]
    }
   ],
   "source": [
    "#Question-3\n",
    "arr = np.array( [ [ [1,4,6,8],[3,4,9,6],[2,9,6,4] ]])\n",
    "print(\"Dimensions of the array : \",arr.ndim)\n",
    "print(\"Size of array : \",arr.size)"
   ]
  },
  {
   "cell_type": "code",
   "execution_count": 25,
   "metadata": {},
   "outputs": [
    {
     "name": "stdout",
     "output_type": "stream",
     "text": [
      "Before converting  [ 3  5  1  7  8 10]\n",
      "[[ 3]\n",
      " [ 5]\n",
      " [ 1]\n",
      " [ 7]\n",
      " [ 8]\n",
      " [10]]\n",
      "After converting into 2d array [[ 3  5  1]\n",
      " [ 7  8 10]]\n"
     ]
    }
   ],
   "source": [
    "#Question-4\n",
    "\n",
    "arr = np.array( [3,5,1,7,8,10] )\n",
    "print(\"Before converting \",arr)\n",
    "\n",
    "print(np.expand_dims(arr,1))\n",
    "\n",
    "#After converting into 2-d array\n",
    "arr.resize((2,3))\n",
    "print(\"After converting into 2d array\",arr)"
   ]
  },
  {
   "cell_type": "code",
   "execution_count": 31,
   "metadata": {},
   "outputs": [
    {
     "name": "stdout",
     "output_type": "stream",
     "text": [
      "[[ 1  2  3  4  5]\n",
      " [ 6  7  8  9 10]]\n",
      "[[11 12 13 14 15]\n",
      " [16 17 18 19 20]]\n",
      "\n",
      "\n",
      "Stcaked Vertically [[ 1  2  3  4  5]\n",
      " [ 6  7  8  9 10]\n",
      " [11 12 13 14 15]\n",
      " [16 17 18 19 20]]\n",
      "\n",
      "\n",
      "Stacked Horizantally [[ 1  2  3  4  5 11 12 13 14 15]\n",
      " [ 6  7  8  9 10 16 17 18 19 20]]\n"
     ]
    }
   ],
   "source": [
    "#Question-5\n",
    "arr1 = np.array( [ [ 1,2,3,4,5],[6,7,8,9,10] ] )\n",
    "arr2 = np.array( [ [ 11,12,13,14,15],[16,17,18,19,20] ] )\n",
    "print(arr1)\n",
    "print(arr2)\n",
    "print(\"\\n\")\n",
    "print(\"Stcaked Vertically\",np.vstack((arr1,arr2)))\n",
    "print(\"\\n\")\n",
    "print(\"Stacked Horizantally\",np.hstack((arr1,arr2)))"
   ]
  },
  {
   "cell_type": "code",
   "execution_count": 35,
   "metadata": {},
   "outputs": [
    {
     "name": "stdout",
     "output_type": "stream",
     "text": [
      "[1 2 3 4]\n",
      "[3 1 1 2]\n"
     ]
    }
   ],
   "source": [
    "#Question-5\n",
    "list = np.array([1, 1, 2, 3, 4, 4, 1])\n",
    "\n",
    "(unique_numbers, counts) = np.unique(list, return_counts=True)\n",
    "\n",
    "\n",
    "print(unique_numbers)\n",
    "print(counts)"
   ]
  },
  {
   "cell_type": "code",
   "execution_count": null,
   "metadata": {},
   "outputs": [],
   "source": []
  }
 ],
 "metadata": {
  "kernelspec": {
   "display_name": "Python 3",
   "language": "python",
   "name": "python3"
  },
  "language_info": {
   "codemirror_mode": {
    "name": "ipython",
    "version": 3
   },
   "file_extension": ".py",
   "mimetype": "text/x-python",
   "name": "python",
   "nbconvert_exporter": "python",
   "pygments_lexer": "ipython3",
   "version": "3.7.6"
  }
 },
 "nbformat": 4,
 "nbformat_minor": 4
}
