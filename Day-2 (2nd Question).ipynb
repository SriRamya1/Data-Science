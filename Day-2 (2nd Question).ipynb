{
 "cells": [
  {
   "cell_type": "markdown",
   "metadata": {},
   "source": [
    "LIST COMPREHENSION:\n",
    "->It is used for deriving one list from another.\n",
    "->Here in the new list(result), each elements is the result of some operations applied to each member o another sequence. \n",
    "Syntax :: [expr for element in iterable ]\n",
    "\n"
   ]
  },
  {
   "cell_type": "code",
   "execution_count": 8,
   "metadata": {},
   "outputs": [
    {
     "name": "stdout",
     "output_type": "stream",
     "text": [
      "1 3 5 8\n"
     ]
    },
    {
     "data": {
      "text/plain": [
       "[1, 3, 5, 8]"
      ]
     },
     "execution_count": 8,
     "metadata": {},
     "output_type": "execute_result"
    }
   ],
   "source": [
    "#Taking input into list\n",
    "list=[int(i) for i in input().split()]\n",
    "list"
   ]
  },
  {
   "cell_type": "code",
   "execution_count": 9,
   "metadata": {},
   "outputs": [
    {
     "name": "stdout",
     "output_type": "stream",
     "text": [
      "['SRI', 'RAMYA', 'NAVYA', 'RAVI']\n"
     ]
    }
   ],
   "source": [
    "## Apply the function to all the elements in the list\n",
    "l=['srI','raMyA','NaVYa','rAvI']\n",
    "l1=[var.upper() for var in l]\n",
    "print(l1)\n",
    "\n"
   ]
  },
  {
   "cell_type": "code",
   "execution_count": 3,
   "metadata": {},
   "outputs": [
    {
     "name": "stdout",
     "output_type": "stream",
     "text": [
      "1\n",
      "2\n",
      "3\n",
      "4\n",
      "5\n",
      "[2, 4]\n"
     ]
    }
   ],
   "source": [
    "#Program for making the values squared\n",
    "l=[]\n",
    "for i in range(5):\n",
    "    n=int(input())\n",
    "    l.append(n)\n",
    "l=[var for var in l if(var%2==0)]\n",
    "print(l)\n",
    "\n"
   ]
  },
  {
   "cell_type": "code",
   "execution_count": 4,
   "metadata": {},
   "outputs": [
    {
     "name": "stdout",
     "output_type": "stream",
     "text": [
      "6\n",
      "7\n",
      "8\n",
      "9\n",
      "10\n",
      "[36, 49, 64, 81, 100]\n"
     ]
    }
   ],
   "source": [
    "#Program for squaring the elements in the list\n",
    "li=[]\n",
    "for i in range(5):\n",
    "    num=int(input())\n",
    "    li.append(num)\n",
    "new_li=[var**2 for var in li]\n",
    "print(new_li)"
   ]
  },
  {
   "cell_type": "code",
   "execution_count": 5,
   "metadata": {},
   "outputs": [
    {
     "name": "stdout",
     "output_type": "stream",
     "text": [
      "[4, 16, 36, 64, 100]\n"
     ]
    }
   ],
   "source": [
    "lst=[1, 2, 3, 4, 5, 6, 7, 8, 9, 10]\n",
    ">>> even_squares = [x**2 for x in lst if x % 2 == 0]\n",
    ">>> print(even_squares)"
   ]
  },
  {
   "cell_type": "code",
   "execution_count": 10,
   "metadata": {},
   "outputs": [
    {
     "name": "stdout",
     "output_type": "stream",
     "text": [
      "[[0, 1, 2, 3, 4], [0, 1, 2, 3, 4], [0, 1, 2, 3, 4], [0, 1, 2, 3, 4], [0, 1, 2, 3, 4]]\n"
     ]
    }
   ],
   "source": [
    "# Nested list comprehension \n",
    "matr = [[j for j in range(5)] for i in range(5)] \n",
    "  \n",
    "print(matr) "
   ]
  },
  {
   "cell_type": "code",
   "execution_count": 13,
   "metadata": {},
   "outputs": [
    {
     "name": "stdout",
     "output_type": "stream",
     "text": [
      "[4, 1, 9, 3, 2, 6, 7, 8, 5]\n"
     ]
    }
   ],
   "source": [
    "matrix = [[4, 1, 9], [3, 2], [6, 7, 8, 5]] \n",
    "  \n",
    "# Nested List Comprehension to flatten a given 2-D matrix \n",
    "flatten_matrix = [val for sublist in matrix for val in sublist] \n",
    "  \n",
    "print(flatten_matrix) "
   ]
  },
  {
   "cell_type": "code",
   "execution_count": null,
   "metadata": {},
   "outputs": [],
   "source": []
  }
 ],
 "metadata": {
  "kernelspec": {
   "display_name": "Python 3",
   "language": "python",
   "name": "python3"
  },
  "language_info": {
   "codemirror_mode": {
    "name": "ipython",
    "version": 3
   },
   "file_extension": ".py",
   "mimetype": "text/x-python",
   "name": "python",
   "nbconvert_exporter": "python",
   "pygments_lexer": "ipython3",
   "version": "3.7.6"
  }
 },
 "nbformat": 4,
 "nbformat_minor": 4
}
