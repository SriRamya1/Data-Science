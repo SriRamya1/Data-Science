{
 "cells": [
  {
   "cell_type": "code",
   "execution_count": 5,
   "metadata": {},
   "outputs": [
    {
     "name": "stdout",
     "output_type": "stream",
     "text": [
      "1\n",
      "2\n",
      "3\n",
      "4\n",
      "5\n",
      "6\n",
      "7\n",
      "8\n",
      "9\n",
      "10\n",
      "[2, 4, 6, 8, 10]\n"
     ]
    }
   ],
   "source": [
    "l = []\n",
    "for i in range(10):\n",
    "    n=int(input())\n",
    "    if n%2==0:\n",
    "        l.append(n)\n",
    "print(l)"
   ]
  },
  {
   "cell_type": "raw",
   "metadata": {},
   "source": [
    "LIST COMPREHENSION:\n",
    "->It is used for deriving one list from another.\n",
    "->Here in the new list(result), each elements is the result of some operations applied to each member o another sequence. \n",
    "Syntax :: [expr for element in iterable ]\n",
    "\n"
   ]
  },
  {
   "cell_type": "code",
   "execution_count": 16,
   "metadata": {},
   "outputs": [
    {
     "name": "stdout",
     "output_type": "stream",
     "text": [
      "['SRI', 'RAMYA', 'NAVYA', 'RAVI']\n",
      "1\n",
      "2\n",
      "3\n",
      "4\n",
      "5\n",
      "[2, 4]\n",
      "6\n",
      "7\n",
      "8\n",
      "9\n",
      "10\n",
      "[36, 49, 64, 81, 100]\n"
     ]
    }
   ],
   "source": [
    "#Apply the function to all the elements in the list\n",
    "l=['srI','raMyA','NaVYa','rAvI']\n",
    "l1=[var.upper() for var in l]\n",
    "print(l1)\n",
    "\n",
    "#Program for making the values squared\n",
    "l=[]\n",
    "for i in range(5):\n",
    "    n=int(input())\n",
    "    l.append(n)\n",
    "l=[var for var in l if(var%2==0)]\n",
    "print(l)\n",
    "\n",
    "#Program for squaring the elements in the list\n",
    "li=[]\n",
    "for i in range(5):\n",
    "    num=int(input())\n",
    "    li.append(num)\n",
    "new_li=[var**2 for var in li]\n",
    "print(new_li)"
   ]
  },
  {
   "cell_type": "code",
   "execution_count": 19,
   "metadata": {},
   "outputs": [
    {
     "name": "stdout",
     "output_type": "stream",
     "text": [
      "8\n",
      "{1: 1, 2: 4, 3: 9, 4: 16, 5: 25, 6: 36, 7: 49, 8: 64}\n"
     ]
    }
   ],
   "source": [
    "n=int(input())\n",
    "d=dict()\n",
    "for i in range(1,n+1):\n",
    "    d[i]=i*i\n",
    "print(d)"
   ]
  },
  {
   "cell_type": "code",
   "execution_count": 20,
   "metadata": {},
   "outputs": [
    {
     "name": "stdout",
     "output_type": "stream",
     "text": [
      "4\n",
      "UP 5\n",
      "DOWN 3\n",
      "LEFT 3\n",
      "RIGHT 2\n",
      "2\n"
     ]
    }
   ],
   "source": [
    "import math\n",
    "num = int(input())\n",
    "x = 0\n",
    "y = 0\n",
    "for i in range(num):\n",
    "    n = input()\n",
    "    direc = n[:-1].strip()\n",
    "    no_of_steps = int(n[-1])\n",
    "    if(direc==\"UP\"):\n",
    "        y+=no_of_steps\n",
    "    elif(direc==\"DOWN\"):\n",
    "        y-=no_of_steps\n",
    "    elif(direc==\"LEFT\"):\n",
    "        x-=no_of_steps\n",
    "    elif(direc==\"RIGHT\"):\n",
    "        x+=no_of_steps\n",
    "\n",
    "print(int(math.sqrt((x**2)+(y**2))))\n",
    "  "
   ]
  },
  {
   "cell_type": "code",
   "execution_count": null,
   "metadata": {},
   "outputs": [],
   "source": []
  }
 ],
 "metadata": {
  "kernelspec": {
   "display_name": "Python 3",
   "language": "python",
   "name": "python3"
  },
  "language_info": {
   "codemirror_mode": {
    "name": "ipython",
    "version": 3
   },
   "file_extension": ".py",
   "mimetype": "text/x-python",
   "name": "python",
   "nbconvert_exporter": "python",
   "pygments_lexer": "ipython3",
   "version": "3.7.6"
  }
 },
 "nbformat": 4,
 "nbformat_minor": 4
}
